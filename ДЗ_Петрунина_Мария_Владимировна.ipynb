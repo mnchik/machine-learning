{
  "nbformat": 4,
  "nbformat_minor": 0,
  "metadata": {
    "colab": {
      "provenance": []
    },
    "kernelspec": {
      "name": "python3",
      "display_name": "Python 3"
    },
    "language_info": {
      "name": "python"
    }
  },
  "cells": [
    {
      "cell_type": "markdown",
      "source": [
        "# Домашняя работа\n",
        "\n",
        "**MNIST**\n",
        "\n",
        "---\n",
        "\n",
        "ФИО: Петрунина Мария Владимировна\n",
        "\n",
        "\n",
        "---"
      ],
      "metadata": {
        "id": "Xqyu-20r9FgW"
      }
    },
    {
      "cell_type": "markdown",
      "source": [
        "Подключение библиотек"
      ],
      "metadata": {
        "id": "Ah6qRiuB9aIj"
      }
    },
    {
      "cell_type": "code",
      "execution_count": 1,
      "metadata": {
        "id": "eB2uaRmS8mBq"
      },
      "outputs": [],
      "source": [
        "import numpy as np\n",
        "from torchvision import datasets, transforms\n",
        "import torch\n",
        "import matplotlib.pyplot as plt\n",
        "from tqdm import tqdm\n",
        "\n",
        "import torch.nn as nn\n",
        "import torch.nn.functional as F\n",
        "\n",
        "from sklearn.metrics import accuracy_score, f1_score\n",
        "from sklearn.model_selection import ParameterGrid"
      ]
    },
    {
      "cell_type": "markdown",
      "source": [
        "##Выборки"
      ],
      "metadata": {
        "id": "AfWzVpiNsnLJ"
      }
    },
    {
      "cell_type": "markdown",
      "source": [
        "Импортирование датасета и разделение на тренировочную и тестовую выборки"
      ],
      "metadata": {
        "id": "zaYwkPxG9cj0"
      }
    },
    {
      "cell_type": "code",
      "source": [
        "train_set = datasets.MNIST(\n",
        "    root=\"data\",\n",
        "    train=True,\n",
        "    download=True,\n",
        "    transform=transforms.ToTensor()\n",
        ")\n",
        "test_set = datasets.MNIST(\n",
        "    root=\"data\",\n",
        "    train=False,\n",
        "    download=True,\n",
        "    transform=transforms.ToTensor()\n",
        ")"
      ],
      "metadata": {
        "id": "Zuz8IZvl9lGo"
      },
      "execution_count": null,
      "outputs": []
    },
    {
      "cell_type": "markdown",
      "source": [
        "Получение общего числа объектов и их ярлыков"
      ],
      "metadata": {
        "id": "KzQlWVJD9_Qx"
      }
    },
    {
      "cell_type": "code",
      "source": [
        "train_samples_len = len(train_set)\n",
        "test_samples_len = len(test_set)\n",
        "image_shape = train_set[0][0].shape\n",
        "classes_len = len(train_set.classes)\n",
        "classes_labels = train_set.classes\n",
        "\n",
        "print(f'{train_samples_len},\\n{test_samples_len},\\n{image_shape},\\n{classes_len},\\n{classes_labels}')"
      ],
      "metadata": {
        "colab": {
          "base_uri": "https://localhost:8080/"
        },
        "id": "vhtFJddc97wO",
        "outputId": "5d559f00-7152-4093-ab48-d5a01bd29891"
      },
      "execution_count": null,
      "outputs": [
        {
          "output_type": "stream",
          "name": "stdout",
          "text": [
            "60000,\n",
            "10000,\n",
            "torch.Size([1, 28, 28]),\n",
            "10,\n",
            "['0 - zero', '1 - one', '2 - two', '3 - three', '4 - four', '5 - five', '6 - six', '7 - seven', '8 - eight', '9 - nine']\n"
          ]
        }
      ]
    },
    {
      "cell_type": "markdown",
      "source": [
        "Создание словаря"
      ],
      "metadata": {
        "id": "12FrH06M-Kmt"
      }
    },
    {
      "cell_type": "code",
      "source": [
        "labels_dict = {\n",
        "    0: \"0\",\n",
        "    1: \"1\",\n",
        "    2: \"2\",\n",
        "    3: \"3\",\n",
        "    4: \"4\",\n",
        "    5: \"5\",\n",
        "    6: \"6\",\n",
        "    7: \"7\",\n",
        "    8: \"8\",\n",
        "    9: \"9\",\n",
        "}"
      ],
      "metadata": {
        "id": "Nlel4N3v-NkM"
      },
      "execution_count": null,
      "outputs": []
    },
    {
      "cell_type": "markdown",
      "source": [
        "Вывод картинок"
      ],
      "metadata": {
        "id": "1Tzb1ugM-QnM"
      }
    },
    {
      "cell_type": "code",
      "source": [
        "fig = plt.figure(figsize=(7, 8))\n",
        "cols, rows = 5, 5\n",
        "for i in range(1, cols * rows + 1):\n",
        "    sample_index = torch.randint(len(train_set), size=(1,)).item()\n",
        "    img, label = train_set[sample_index]\n",
        "    fig.add_subplot(rows, cols, i)\n",
        "    plt.title(labels_dict[label])\n",
        "    plt.axis(\"off\")\n",
        "    plt.imshow(img.squeeze(), cmap=\"gray\")\n",
        "plt.show()"
      ],
      "metadata": {
        "colab": {
          "base_uri": "https://localhost:8080/",
          "height": 662
        },
        "id": "4zd5-Y_Z-ScR",
        "outputId": "f2e0f5f2-e3dd-43b4-da98-d708b24fc0a1"
      },
      "execution_count": null,
      "outputs": [
        {
          "output_type": "display_data",
          "data": {
            "text/plain": [
              "<Figure size 700x800 with 25 Axes>"
            ],
            "image/png": "[encoded data removed]"
          },
          "metadata": {}
        }
      ]
    },
    {
      "cell_type": "code",
      "source": [
        "train_loader = torch.utils.data.DataLoader(train_set, batch_size = 32, shuffle=True)\n",
        "test_loader = torch.utils.data.DataLoader(test_set, batch_size = 32, shuffle=False)"
      ],
      "metadata": {
        "id": "IhO_EGh3-g-n"
      },
      "execution_count": null,
      "outputs": []
    },
    {
      "cell_type": "markdown",
      "source": [
        "##Создание модели"
      ],
      "metadata": {
        "id": "cjmXEnk7AESe"
      }
    },
    {
      "cell_type": "code",
      "source": [
        "class NN(nn.Module):\n",
        "  def __init__(self):\n",
        "    super().__init__()\n",
        "    self.conv1 = nn.Conv2d(1,6,5)\n",
        "    self.pool = nn.MaxPool2d(2,2)\n",
        "    self.conv2 = nn.Conv2d(6,16,5)\n",
        "    self.fc1 = nn.Linear(16 * 4 * 4,120)\n",
        "    self.fc2 = nn.Linear(120,80)\n",
        "    self.fc3 = nn.Linear(80,10)\n",
        "\n",
        "\n",
        "  def forward(self,x):\n",
        "    x = F.relu(self.conv1(x))\n",
        "    x = self.pool(x)\n",
        "    x = F.relu(self.conv2(x))\n",
        "    x = self.pool(x)\n",
        "    x = x.view(-1,16 * 4 * 4)\n",
        "    x = F.relu(self.fc1(x))\n",
        "    x = F.relu(self.fc2(x))\n",
        "    x = self.fc3(x)\n",
        "    return x"
      ],
      "metadata": {
        "id": "t1oQcQXMAGha"
      },
      "execution_count": null,
      "outputs": []
    },
    {
      "cell_type": "code",
      "source": [
        "net = NN()\n",
        "net\n"
      ],
      "metadata": {
        "colab": {
          "base_uri": "https://localhost:8080/"
        },
        "id": "6whe_SIdBtbw",
        "outputId": "9f9692f2-13c7-4a43-b89d-61c323c4711f"
      },
      "execution_count": null,
      "outputs": [
        {
          "output_type": "execute_result",
          "data": {
            "text/plain": [
              "NN(\n",
              "  (conv1): Conv2d(1, 6, kernel_size=(5, 5), stride=(1, 1))\n",
              "  (pool): MaxPool2d(kernel_size=2, stride=2, padding=0, dilation=1, ceil_mode=False)\n",
              "  (conv2): Conv2d(6, 16, kernel_size=(5, 5), stride=(1, 1))\n",
              "  (fc1): Linear(in_features=256, out_features=120, bias=True)\n",
              "  (fc2): Linear(in_features=120, out_features=80, bias=True)\n",
              "  (fc3): Linear(in_features=80, out_features=10, bias=True)\n",
              ")"
            ]
          },
          "metadata": {},
          "execution_count": 20
        }
      ]
    },
    {
      "cell_type": "markdown",
      "source": [
        "##Выходная размерность карты признаков"
      ],
      "metadata": {
        "id": "CxvVOGxFvG10"
      }
    },
    {
      "cell_type": "markdown",
      "source": [
        "Без падинга:\n",
        "$$\n",
        "(w,h) = (\\frac{mW - kW + 1}{s}, \\frac{mH - kH + 1}{s})\n",
        "$$\n",
        "С падингами:\n",
        "$$\n",
        "(\\frac{mW+2p-kW+1}{s}, \\frac{mH+2p-kH+1}{s}=(w,h)\n",
        "$$\n",
        "где $$ (w,h)\\text{ - вычисляемый размер сверточной карты;} $$\n",
        "$$ mW\\text{ - ширина предыдущей карты;} $$\n",
        "$$ mH\\text{ - высота предыдущей карты;} $$\n",
        "$$ kW\\text{ - ширина ядра;} $$\n",
        "$$ kH\\text{ - высота ядра;} $$\n",
        "$$ s\\text{ - шаг свертки;} $$\n",
        "$$ p\\text{ - количество строк падингов с одной стороны по вертикали или горизонтали;} $$"
      ],
      "metadata": {
        "id": "KQtr265d6Ygv"
      }
    },
    {
      "cell_type": "markdown",
      "source": [
        "### Действие 1"
      ],
      "metadata": {
        "id": "oo6kQwpMb3MU"
      }
    },
    {
      "cell_type": "markdown",
      "source": [
        "В моем случае без падинга\n",
        "сверточный слой 1 (Conv2d):\n",
        "Размер ядра: $$kW = 5, kH = 5$$\n",
        "Padding: $$p = 0$$\n",
        "Ширина предыдущей карты: $$ mW = 28 $$\n",
        "Высота предыдущей карты: $$ mH = 28 $$\n",
        "Выходной размер: $$ (28 - 5 + 1, 28 - 5 + 1) = (24, 24) $$\n",
        "Глубина 6, значит размер: $$ (6, 24, 24) $$"
      ],
      "metadata": {
        "id": "_hx6GMKqUky-"
      }
    },
    {
      "cell_type": "markdown",
      "source": [
        "### Действие 2"
      ],
      "metadata": {
        "id": "e7vq66S_b6cZ"
      }
    },
    {
      "cell_type": "markdown",
      "source": [
        "Maxpooling:\n",
        "stride: $$ s = 2 $$\n",
        "значит выходной размер: $$(\\frac{24}{2}, \\frac{24}{2}) = (12,12) $$\n",
        "считая глубину: $$ (6, 12,12) $$"
      ],
      "metadata": {
        "id": "vGtPNczjW6jv"
      }
    },
    {
      "cell_type": "markdown",
      "source": [
        "### Действие 3"
      ],
      "metadata": {
        "id": "JTyCbqe7b8PL"
      }
    },
    {
      "cell_type": "markdown",
      "source": [
        "В моем случае без падинга\n",
        "сверточный слой 1 (Conv2d):\n",
        "Размер ядра: $$kW = 5, kH = 5$$\n",
        "Padding: $$p = 0$$\n",
        "Ширина предыдущей карты: $$ mW = 28 $$\n",
        "Высота предыдущей карты: $$ mH = 28 $$\n",
        "Выходной размер: $$ (12 - 5 + 1, 12 - 5 + 1) = (8, 8) $$\n",
        "с глубиной опять же: $$ (16, 8, 8) $$\n"
      ],
      "metadata": {
        "id": "uz77DPACYo-t"
      }
    },
    {
      "cell_type": "markdown",
      "source": [
        "### Действие 4. Итог"
      ],
      "metadata": {
        "id": "Na383m8ub98F"
      }
    },
    {
      "cell_type": "markdown",
      "source": [
        "Maxpooling второй раз:\n",
        "stride: $$ s = 2 $$\n",
        "значит выходной размер: $$(\\frac{8}{2}, \\frac{8}{2}) = (4, 4) $$\n",
        "считая глубину: $$ (16, 4, 4) $$"
      ],
      "metadata": {
        "id": "CvuArY2cbk5R"
      }
    },
    {
      "cell_type": "markdown",
      "source": [
        "##Обучение модели"
      ],
      "metadata": {
        "id": "f8WGcLWjDE3L"
      }
    },
    {
      "cell_type": "code",
      "source": [
        "loss_net = torch.nn.CrossEntropyLoss()\n",
        "\n",
        "lr = 0.001\n",
        "\n",
        "optimizer = torch.optim.Adam(net.parameters(), lr = lr)\n",
        "\n",
        "num_epochs = 6\n",
        "\n",
        "train_losses = []\n",
        "\n",
        "for epoch in range(num_epochs):\n",
        "    real_loss = 0.0\n",
        "\n",
        "    for i, (X_batch, y_batch) in enumerate(train_loader):  # Используем DataLoader\n",
        "        optimizer.zero_grad()\n",
        "        inputs, labels = X_batch, y_batch\n",
        "\n",
        "        y_pred = net(X_batch)\n",
        "\n",
        "        loss = loss_net(y_pred, labels)\n",
        "\n",
        "        loss.backward()\n",
        "        optimizer.step()\n",
        "\n",
        "        real_loss += loss.item()\n",
        "\n",
        "        if i % 500 == 499:  # Вывод каждые 500 батчей\n",
        "            print(f\"Epoch {epoch+1}, Batch {i+1}, Loss: {real_loss / 500:.4f}\")\n",
        "            real_loss = 0.0\n",
        "    avg_loss = real_loss/ len(train_loader)\n",
        "    train_losses.append(avg_loss)\n",
        "    print(f\"Epoch {epoch+1}, Loss: {avg_loss:.4f}\")\n",
        "\n",
        "print('\\nDONE')\n"
      ],
      "metadata": {
        "colab": {
          "base_uri": "https://localhost:8080/"
        },
        "id": "RwcP9gRqBzxO",
        "outputId": "90c793a5-b099-44be-c2d4-c2f551413bd3"
      },
      "execution_count": null,
      "outputs": [
        {
          "output_type": "stream",
          "name": "stdout",
          "text": [
            "Epoch 1, Batch 500, Loss: 0.5476\n",
            "Epoch 1, Batch 1000, Loss: 0.1662\n",
            "Epoch 1, Batch 1500, Loss: 0.1099\n",
            "Epoch 1, Loss: 0.0206\n",
            "Epoch 2, Batch 500, Loss: 0.0815\n",
            "Epoch 2, Batch 1000, Loss: 0.0832\n",
            "Epoch 2, Batch 1500, Loss: 0.0713\n",
            "Epoch 2, Loss: 0.0125\n",
            "Epoch 3, Batch 500, Loss: 0.0581\n",
            "Epoch 3, Batch 1000, Loss: 0.0570\n",
            "Epoch 3, Batch 1500, Loss: 0.0542\n",
            "Epoch 3, Loss: 0.0104\n",
            "Epoch 4, Batch 500, Loss: 0.0415\n",
            "Epoch 4, Batch 1000, Loss: 0.0444\n",
            "Epoch 4, Batch 1500, Loss: 0.0446\n",
            "Epoch 4, Loss: 0.0088\n",
            "Epoch 5, Batch 500, Loss: 0.0315\n",
            "Epoch 5, Batch 1000, Loss: 0.0400\n",
            "Epoch 5, Batch 1500, Loss: 0.0317\n",
            "Epoch 5, Loss: 0.0078\n",
            "Epoch 6, Batch 500, Loss: 0.0294\n",
            "Epoch 6, Batch 1000, Loss: 0.0293\n",
            "Epoch 6, Batch 1500, Loss: 0.0357\n",
            "Epoch 6, Loss: 0.0058\n",
            "\n",
            "DONE\n"
          ]
        }
      ]
    },
    {
      "cell_type": "markdown",
      "source": [
        "##График"
      ],
      "metadata": {
        "id": "2lk7yf1JsswS"
      }
    },
    {
      "cell_type": "code",
      "source": [
        "plt.plot(range(1, num_epochs + 1), train_losses, marker='o')\n",
        "plt.xlabel('Epoch')\n",
        "plt.ylabel('Loss')\n",
        "plt.title('Training Loss over Epochs')\n",
        "plt.show()"
      ],
      "metadata": {
        "colab": {
          "base_uri": "https://localhost:8080/",
          "height": 472
        },
        "id": "dIsOXj74q7U_",
        "outputId": "e2571212-13b2-47f2-ae5f-51ada1320f3e"
      },
      "execution_count": null,
      "outputs": [
        {
          "output_type": "display_data",
          "data": {
            "text/plain": [
              "<Figure size 640x480 with 1 Axes>"
            ],
            "image/png": "[encoded data removed]"
          },
          "metadata": {}
        }
      ]
    },
    {
      "cell_type": "code",
      "source": [
        "test_dataiter = iter(test_loader)\n",
        "images,labels = next(test_dataiter)"
      ],
      "metadata": {
        "id": "2H_2YxtctepF"
      },
      "execution_count": null,
      "outputs": []
    },
    {
      "cell_type": "code",
      "source": [
        "def show_images(img,labels):\n",
        "  f, axes = plt.subplots(1,10,figsize = (30,5))\n",
        "  for i, axis in enumerate(axes):\n",
        "    axes[i].imshow(np.squeeze(np.transpose(img[i].numpy(),(1,2,0))))\n",
        "    axes[i].set_title(labels[i].numpy())\n",
        "  plt.show()\n",
        "\n",
        "show_images(images,labels)"
      ],
      "metadata": {
        "colab": {
          "base_uri": "https://localhost:8080/",
          "height": 193
        },
        "id": "k-7eOCbftgxP",
        "outputId": "525133ed-2c5d-4723-fc81-8935eabacdc7"
      },
      "execution_count": null,
      "outputs": [
        {
          "output_type": "display_data",
          "data": {
            "text/plain": [
              "<Figure size 3000x500 with 10 Axes>"
            ],
            "image/png": "[encoded data removed]"
          },
          "metadata": {}
        }
      ]
    },
    {
      "cell_type": "code",
      "source": [
        "predict_classes = np.argmax(net(images).detach().numpy(),axis = 1)"
      ],
      "metadata": {
        "id": "T8iTekpqtjKZ"
      },
      "execution_count": null,
      "outputs": []
    },
    {
      "cell_type": "code",
      "source": [
        "list(map(lambda x: labels_dict[x],predict_classes))"
      ],
      "metadata": {
        "colab": {
          "base_uri": "https://localhost:8080/"
        },
        "id": "hNqDVK5Atnqf",
        "outputId": "e0a15bea-4ce9-4596-f24b-fb1cfc3fc619"
      },
      "execution_count": null,
      "outputs": [
        {
          "output_type": "execute_result",
          "data": {
            "text/plain": [
              "['7',\n",
              " '2',\n",
              " '1',\n",
              " '0',\n",
              " '4',\n",
              " '1',\n",
              " '4',\n",
              " '9',\n",
              " '5',\n",
              " '9',\n",
              " '0',\n",
              " '6',\n",
              " '9',\n",
              " '0',\n",
              " '1',\n",
              " '5',\n",
              " '9',\n",
              " '7',\n",
              " '8',\n",
              " '4',\n",
              " '9',\n",
              " '6',\n",
              " '6',\n",
              " '5',\n",
              " '4',\n",
              " '0',\n",
              " '7',\n",
              " '4',\n",
              " '0',\n",
              " '1',\n",
              " '3',\n",
              " '1']"
            ]
          },
          "metadata": {},
          "execution_count": 26
        }
      ]
    },
    {
      "cell_type": "markdown",
      "source": [
        "##Тестовая выборка"
      ],
      "metadata": {
        "id": "SBwesUAksxFG"
      }
    },
    {
      "cell_type": "markdown",
      "source": [
        "Проверка точности таким образом(как процент), затем переобучила и нашла другие показатели"
      ],
      "metadata": {
        "id": "oADM3IPXhYlO"
      }
    },
    {
      "cell_type": "code",
      "source": [
        "with torch.no_grad():\n",
        "    net.eval()\n",
        "    correct = 0\n",
        "    total = 0\n",
        "    for images, labels in test_loader:\n",
        "            outputs = net(images)\n",
        "            _, predicted = torch.max(outputs.data, 1)\n",
        "            total += labels.size(0)\n",
        "            correct += (predicted == labels).sum().item()\n",
        "\n",
        "    print(f'Точность (accuracy) {100 * correct / total}')\n"
      ],
      "metadata": {
        "colab": {
          "base_uri": "https://localhost:8080/"
        },
        "id": "gvlN9ZsUe4kp",
        "outputId": "af470898-6f43-4ce8-97d3-974625e661d7"
      },
      "execution_count": null,
      "outputs": [
        {
          "output_type": "stream",
          "name": "stdout",
          "text": [
            "Точность (accuracy) 98.77\n"
          ]
        }
      ]
    },
    {
      "cell_type": "markdown",
      "source": [
        "Значения на переобученной: (заново все запускала кроме блока кода выше)"
      ],
      "metadata": {
        "id": "IrROpXA3hhz3"
      }
    },
    {
      "cell_type": "markdown",
      "source": [
        "## Тестовая выборка 2"
      ],
      "metadata": {
        "id": "TSbV0Awls1SY"
      }
    },
    {
      "cell_type": "code",
      "source": [
        "# Тестирование модели\n",
        "all_labels = []\n",
        "all_preds = []\n",
        "\n",
        "with torch.no_grad():\n",
        "    net.eval()\n",
        "    for X_batch, y_batch in test_loader:\n",
        "        outputs = net(X_batch)\n",
        "        _, preds = torch.max(outputs, 1)\n",
        "        all_labels.extend(y_batch.numpy())\n",
        "        all_preds.extend(preds.numpy())\n",
        "\n",
        "accuracy = accuracy_score(all_labels, all_preds)\n",
        "f1 = f1_score(all_labels, all_preds, average='macro')\n",
        "\n",
        "print(f\"Test Accuracy: {accuracy:.4f}\")\n",
        "print(f\"Test F1 Score: {f1:.4f}\")\n"
      ],
      "metadata": {
        "colab": {
          "base_uri": "https://localhost:8080/"
        },
        "id": "QWDHEY_GcUuY",
        "outputId": "5ad38027-47f6-4cae-964f-19aaa95a464a"
      },
      "execution_count": null,
      "outputs": [
        {
          "output_type": "stream",
          "name": "stdout",
          "text": [
            "Test Accuracy: 0.9883\n",
            "Test F1 Score: 0.9882\n"
          ]
        }
      ]
    },
    {
      "cell_type": "markdown",
      "source": [
        "##Примеры"
      ],
      "metadata": {
        "id": "DIDsnbOms5dY"
      }
    },
    {
      "cell_type": "code",
      "source": [
        "# Вывод 10 случайных тестовых примеров\n",
        "random_indices = torch.randint(0, len(test_set), (10,))\n",
        "fig, axes = plt.subplots(1, 10, figsize=(20, 4))\n",
        "\n",
        "for i, idx in enumerate(random_indices):\n",
        "    img, true_label = test_set[idx]\n",
        "    img = img.unsqueeze(0)  # Add batch dimension\n",
        "    pred_label = torch.argmax(net(img)).item()\n",
        "    axes[i].imshow(img.squeeze(), cmap=\"gray\")\n",
        "    axes[i].set_title(f\"T: {labels_dict[true_label]}\\nP: {labels_dict[pred_label]}\")\n",
        "    axes[i].axis(\"off\")\n",
        "\n",
        "plt.tight_layout()\n",
        "plt.show()\n"
      ],
      "metadata": {
        "colab": {
          "base_uri": "https://localhost:8080/",
          "height": 213
        },
        "id": "ItAWF47Kcfux",
        "outputId": "143ceb2c-f930-4da8-bc0e-a09553a1eea1"
      },
      "execution_count": null,
      "outputs": [
        {
          "output_type": "display_data",
          "data": {
            "text/plain": [
              "<Figure size 2000x400 with 10 Axes>"
            ],
            "image/png": "[encoded data removed]"
          },
          "metadata": {}
        }
      ]
    },
    {
      "cell_type": "markdown",
      "source": [
        "##Эксперименты"
      ],
      "metadata": {
        "id": "L8mL7EQgs7hC"
      }
    },
    {
      "cell_type": "markdown",
      "source": [
        "Эксперименты с learning_rate и batch_size"
      ],
      "metadata": {
        "id": "Qz6DJDQVtHuk"
      }
    },
    {
      "cell_type": "markdown",
      "source": [
        "###SGD"
      ],
      "metadata": {
        "id": "58lxA31ZDV5g"
      }
    },
    {
      "cell_type": "code",
      "source": [
        "class TheModelClass(nn.Module):\n",
        "    def __init__(self):\n",
        "        super(TheModelClass, self).__init__()\n",
        "        self.conv1 = nn.Conv2d(1, 6, 5)\n",
        "        self.pool = nn.MaxPool2d(2, 2)\n",
        "        self.conv2 = nn.Conv2d(6, 16, 5)\n",
        "        self.fc1 = nn.Linear(16 * 4 * 4, 120)\n",
        "        self.fc2 = nn.Linear(120, 84)\n",
        "        self.fc3 = nn.Linear(84, 10)\n",
        "\n",
        "    def forward(self, x):\n",
        "        x = self.pool(F.relu(self.conv1(x)))\n",
        "        x = self.pool(F.relu(self.conv2(x)))\n",
        "        x = x.view(-1, 16 * 4 * 4)\n",
        "        x = F.relu(self.fc1(x))\n",
        "        x = F.relu(self.fc2(x))\n",
        "        x = self.fc3(x)\n",
        "        return x\n",
        "\n",
        "train_set = datasets.MNIST(root='data', train=True, transform=transforms.ToTensor(), download=True)\n",
        "\n",
        "params_grid = {\n",
        "    'learning_rate': [0.001, 0.01, 0.1],\n",
        "    'num_epochs': [3, 5, 7],\n",
        "    'batch_size': [16, 32, 64]\n",
        "}\n",
        "\n",
        "grid = ParameterGrid(params_grid)\n",
        "\n",
        "best_accuracy = 0.0\n",
        "best_hyperparams = None\n",
        "\n",
        "for params in grid:\n",
        "    print(params)\n",
        "    learning_rate = params['learning_rate']\n",
        "    num_epochs = params['num_epochs']\n",
        "    batch_size = params['batch_size']\n",
        "\n",
        "    train_loader = torch.utils.data.DataLoader(train_set, batch_size=batch_size, shuffle=True)\n",
        "\n",
        "    model = TheModelClass()\n",
        "    criterion = nn.CrossEntropyLoss()\n",
        "    optimizer = torch.optim.SGD(model.parameters(), lr=learning_rate)\n",
        "\n",
        "    for epoch in range(num_epochs):\n",
        "        print(f\"Эпоха №{epoch+1}\")\n",
        "        model.train()\n",
        "        for images, labels in train_loader:\n",
        "            optimizer.zero_grad()\n",
        "            outputs = model(images)\n",
        "            loss = criterion(outputs, labels)\n",
        "            loss.backward()\n",
        "            optimizer.step()\n",
        "\n",
        "    model.eval()\n",
        "    total = 0\n",
        "    correct = 0\n",
        "    with torch.no_grad():\n",
        "        for images, labels in train_loader:\n",
        "            outputs = model(images)\n",
        "            _, predicted = torch.max(outputs.data, 1)\n",
        "            total += labels.size(0)\n",
        "            correct += (predicted == labels).sum().item()\n",
        "\n",
        "    accuracy = correct / total\n",
        "    print(f'accuracy:{accuracy}')\n",
        "\n",
        "    if accuracy > best_accuracy:\n",
        "        best_accuracy = accuracy\n",
        "        best_hyperparams = params\n",
        "        best_model_state_dict = model.state_dict()\n",
        "\n",
        "print(\"Лучшие гиперпараметры:\", best_hyperparams)\n",
        "print(best_accuracy)\n",
        "\n",
        "torch.save(best_model_state_dict, \"best_model.pth\")"
      ],
      "metadata": {
        "colab": {
          "base_uri": "https://localhost:8080/"
        },
        "id": "y0seKnFhtGAG",
        "outputId": "06deb20c-a1fb-4d33-a035-dc13302b5e85"
      },
      "execution_count": null,
      "outputs": [
        {
          "output_type": "stream",
          "name": "stdout",
          "text": [
            "{'batch_size': 16, 'learning_rate': 0.001, 'num_epochs': 3}\n",
            "Эпоха №1\n",
            "Эпоха №2\n",
            "Эпоха №3\n",
            "accuracy:0.81665\n",
            "{'batch_size': 16, 'learning_rate': 0.001, 'num_epochs': 5}\n",
            "Эпоха №1\n",
            "Эпоха №2\n",
            "Эпоха №3\n",
            "Эпоха №4\n",
            "Эпоха №5\n",
            "accuracy:0.8824833333333333\n",
            "{'batch_size': 16, 'learning_rate': 0.001, 'num_epochs': 7}\n",
            "Эпоха №1\n",
            "Эпоха №2\n",
            "Эпоха №3\n",
            "Эпоха №4\n",
            "Эпоха №5\n",
            "Эпоха №6\n",
            "Эпоха №7\n",
            "accuracy:0.9353\n",
            "{'batch_size': 16, 'learning_rate': 0.01, 'num_epochs': 3}\n",
            "Эпоха №1\n",
            "Эпоха №2\n",
            "Эпоха №3\n",
            "accuracy:0.9748166666666667\n",
            "{'batch_size': 16, 'learning_rate': 0.01, 'num_epochs': 5}\n",
            "Эпоха №1\n",
            "Эпоха №2\n",
            "Эпоха №3\n",
            "Эпоха №4\n",
            "Эпоха №5\n",
            "accuracy:0.9845\n",
            "{'batch_size': 16, 'learning_rate': 0.01, 'num_epochs': 7}\n",
            "Эпоха №1\n",
            "Эпоха №2\n",
            "Эпоха №3\n",
            "Эпоха №4\n",
            "Эпоха №5\n",
            "Эпоха №6\n",
            "Эпоха №7\n",
            "accuracy:0.9876333333333334\n",
            "{'batch_size': 16, 'learning_rate': 0.1, 'num_epochs': 3}\n",
            "Эпоха №1\n",
            "Эпоха №2\n",
            "Эпоха №3\n",
            "accuracy:0.9904333333333334\n",
            "{'batch_size': 16, 'learning_rate': 0.1, 'num_epochs': 5}\n",
            "Эпоха №1\n",
            "Эпоха №2\n",
            "Эпоха №3\n",
            "Эпоха №4\n",
            "Эпоха №5\n",
            "accuracy:0.99465\n",
            "{'batch_size': 16, 'learning_rate': 0.1, 'num_epochs': 7}\n",
            "Эпоха №1\n",
            "Эпоха №2\n",
            "Эпоха №3\n",
            "Эпоха №4\n",
            "Эпоха №5\n",
            "Эпоха №6\n",
            "Эпоха №7\n",
            "accuracy:0.9943\n",
            "{'batch_size': 32, 'learning_rate': 0.001, 'num_epochs': 3}\n",
            "Эпоха №1\n",
            "Эпоха №2\n",
            "accuracy:0.20345\n",
            "{'batch_size': 32, 'learning_rate': 0.001, 'num_epochs': 5}\n",
            "Эпоха №1\n",
            "Эпоха №2\n",
            "Эпоха №3\n",
            "Эпоха №4\n",
            "Эпоха №5\n",
            "accuracy:0.7982\n",
            "{'batch_size': 32, 'learning_rate': 0.001, 'num_epochs': 7}\n",
            "Эпоха №1\n",
            "Эпоха №2\n",
            "Эпоха №3\n",
            "Эпоха №4\n",
            "Эпоха №5\n",
            "Эпоха №6\n",
            "Эпоха №7\n",
            "accuracy:0.87075\n",
            "{'batch_size': 32, 'learning_rate': 0.01, 'num_epochs': 3}\n",
            "Эпоха №1\n",
            "Эпоха №2\n",
            "Эпоха №3\n",
            "accuracy:0.9624333333333334\n",
            "{'batch_size': 32, 'learning_rate': 0.01, 'num_epochs': 5}\n",
            "Эпоха №1\n",
            "Эпоха №2\n",
            "Эпоха №3\n",
            "Эпоха №4\n",
            "Эпоха №5\n",
            "accuracy:0.9782333333333333\n",
            "{'batch_size': 32, 'learning_rate': 0.01, 'num_epochs': 7}\n",
            "Эпоха №1\n",
            "Эпоха №2\n",
            "Эпоха №3\n",
            "Эпоха №4\n",
            "Эпоха №5\n",
            "Эпоха №6\n",
            "Эпоха №7\n",
            "accuracy:0.98125\n",
            "{'batch_size': 32, 'learning_rate': 0.1, 'num_epochs': 3}\n",
            "Эпоха №1\n",
            "Эпоха №2\n",
            "Эпоха №3\n",
            "accuracy:0.98575\n",
            "{'batch_size': 32, 'learning_rate': 0.1, 'num_epochs': 5}\n",
            "Эпоха №1\n",
            "Эпоха №2\n",
            "Эпоха №3\n",
            "Эпоха №4\n",
            "Эпоха №5\n",
            "accuracy:0.9920166666666667\n",
            "{'batch_size': 32, 'learning_rate': 0.1, 'num_epochs': 7}\n",
            "Эпоха №1\n",
            "Эпоха №2\n",
            "Эпоха №3\n",
            "Эпоха №4\n",
            "Эпоха №5\n",
            "Эпоха №6\n",
            "Эпоха №7\n",
            "accuracy:0.99545\n",
            "{'batch_size': 64, 'learning_rate': 0.001, 'num_epochs': 3}\n",
            "Эпоха №1\n",
            "Эпоха №2\n",
            "Эпоха №3\n",
            "accuracy:0.39131666666666665\n",
            "{'batch_size': 64, 'learning_rate': 0.001, 'num_epochs': 5}\n",
            "Эпоха №1\n",
            "Эпоха №2\n",
            "Эпоха №3\n",
            "Эпоха №4\n",
            "Эпоха №5\n",
            "accuracy:0.18846666666666667\n",
            "{'batch_size': 64, 'learning_rate': 0.001, 'num_epochs': 7}\n",
            "Эпоха №1\n",
            "Эпоха №2\n",
            "Эпоха №3\n",
            "Эпоха №4\n",
            "Эпоха №5\n",
            "Эпоха №6\n",
            "Эпоха №7\n",
            "accuracy:0.5071\n",
            "{'batch_size': 64, 'learning_rate': 0.01, 'num_epochs': 3}\n",
            "Эпоха №1\n",
            "Эпоха №2\n",
            "Эпоха №3\n",
            "accuracy:0.93965\n",
            "{'batch_size': 64, 'learning_rate': 0.01, 'num_epochs': 5}\n",
            "Эпоха №1\n",
            "Эпоха №2\n",
            "Эпоха №3\n",
            "Эпоха №4\n",
            "Эпоха №5\n",
            "accuracy:0.9572666666666667\n",
            "{'batch_size': 64, 'learning_rate': 0.01, 'num_epochs': 7}\n",
            "Эпоха №1\n",
            "Эпоха №2\n",
            "Эпоха №3\n",
            "Эпоха №4\n",
            "Эпоха №5\n",
            "Эпоха №6\n",
            "Эпоха №7\n",
            "accuracy:0.96445\n",
            "{'batch_size': 64, 'learning_rate': 0.1, 'num_epochs': 3}\n",
            "Эпоха №1\n",
            "Эпоха №2\n",
            "Эпоха №3\n",
            "accuracy:0.9874166666666667\n",
            "{'batch_size': 64, 'learning_rate': 0.1, 'num_epochs': 5}\n",
            "Эпоха №1\n",
            "Эпоха №2\n",
            "Эпоха №3\n",
            "Эпоха №4\n",
            "Эпоха №5\n",
            "accuracy:0.99235\n",
            "{'batch_size': 64, 'learning_rate': 0.1, 'num_epochs': 7}\n",
            "Эпоха №1\n",
            "Эпоха №2\n",
            "Эпоха №3\n",
            "Эпоха №4\n",
            "Эпоха №5\n",
            "Эпоха №6\n",
            "Эпоха №7\n",
            "accuracy:0.99425\n",
            "Лучшие гиперпараметры: {'batch_size': 32, 'learning_rate': 0.1, 'num_epochs': 7}\n",
            "0.99545\n"
          ]
        }
      ]
    },
    {
      "cell_type": "markdown",
      "source": [
        "###Оптимизатор Адам"
      ],
      "metadata": {
        "id": "FgGQqQCcDIjS"
      }
    },
    {
      "cell_type": "code",
      "source": [
        "class TheModelClass(nn.Module):\n",
        "    def __init__(self):\n",
        "        super(TheModelClass, self).__init__()\n",
        "        self.conv1 = nn.Conv2d(1, 6, 5)\n",
        "        self.pool = nn.MaxPool2d(2, 2)\n",
        "        self.conv2 = nn.Conv2d(6, 16, 5)\n",
        "        self.fc1 = nn.Linear(16 * 4 * 4, 120)\n",
        "        self.fc2 = nn.Linear(120, 84)\n",
        "        self.fc3 = nn.Linear(84, 10)\n",
        "\n",
        "    def forward(self, x):\n",
        "        x = self.pool(F.relu(self.conv1(x)))\n",
        "        x = self.pool(F.relu(self.conv2(x)))\n",
        "        x = x.view(-1, 16 * 4 * 4)\n",
        "        x = F.relu(self.fc1(x))\n",
        "        x = F.relu(self.fc2(x))\n",
        "        x = self.fc3(x)\n",
        "        return x\n",
        "\n",
        "train_set = datasets.MNIST(root='data', train=True, transform=transforms.ToTensor(), download=True)\n",
        "\n",
        "params_grid = {\n",
        "    'learning_rate': [0.001, 0.01, 0.1],\n",
        "    'num_epochs': [3, 5, 7],\n",
        "    'batch_size': [16, 32, 64]\n",
        "}\n",
        "\n",
        "grid = ParameterGrid(params_grid)\n",
        "\n",
        "best_accuracy = 0.0\n",
        "best_hyperparams = None\n",
        "\n",
        "for params in grid:\n",
        "    print(params)\n",
        "    learning_rate = params['learning_rate']\n",
        "    num_epochs = params['num_epochs']\n",
        "    batch_size = params['batch_size']\n",
        "\n",
        "    train_loader = torch.utils.data.DataLoader(train_set, batch_size=batch_size, shuffle=True)\n",
        "\n",
        "    model = TheModelClass()\n",
        "    criterion = nn.CrossEntropyLoss()\n",
        "    optimizer = torch.optim.Adam(model.parameters(), lr=learning_rate)\n",
        "\n",
        "    for epoch in range(num_epochs):\n",
        "        print(f\"Эпоха №{epoch+1}\")\n",
        "        model.train()\n",
        "        for images, labels in train_loader:\n",
        "            optimizer.zero_grad()\n",
        "            outputs = model(images)\n",
        "            loss = criterion(outputs, labels)\n",
        "            loss.backward()\n",
        "            optimizer.step()\n",
        "\n",
        "    model.eval()\n",
        "    total = 0\n",
        "    correct = 0\n",
        "    with torch.no_grad():\n",
        "        for images, labels in train_loader:\n",
        "            outputs = model(images)\n",
        "            _, predicted = torch.max(outputs.data, 1)\n",
        "            total += labels.size(0)\n",
        "            correct += (predicted == labels).sum().item()\n",
        "\n",
        "    accuracy = correct / total\n",
        "    print(f'accuracy:{accuracy}')\n",
        "\n",
        "    if accuracy > best_accuracy:\n",
        "        best_accuracy = accuracy\n",
        "        best_hyperparams = params\n",
        "        best_model_state_dict = model.state_dict()\n",
        "\n",
        "print(\"Лучшие гиперпараметры:\", best_hyperparams)\n",
        "print(best_accuracy)\n",
        "\n",
        "torch.save(best_model_state_dict, \"best_model.pth\")"
      ],
      "metadata": {
        "colab": {
          "base_uri": "https://localhost:8080/"
        },
        "id": "phLERw3PxOa-",
        "outputId": "7808103d-9ad8-4df1-b2bb-a78fb1c2cc8e"
      },
      "execution_count": null,
      "outputs": [
        {
          "output_type": "stream",
          "name": "stdout",
          "text": [
            "{'batch_size': 16, 'learning_rate': 0.001, 'num_epochs': 3}\n",
            "Эпоха №1\n",
            "Эпоха №2\n",
            "Эпоха №3\n",
            "accuracy:0.98945\n",
            "{'batch_size': 16, 'learning_rate': 0.001, 'num_epochs': 5}\n",
            "Эпоха №1\n",
            "Эпоха №2\n",
            "Эпоха №3\n",
            "Эпоха №4\n",
            "Эпоха №5\n",
            "accuracy:0.9935833333333334\n",
            "{'batch_size': 16, 'learning_rate': 0.001, 'num_epochs': 7}\n",
            "Эпоха №1\n",
            "Эпоха №2\n",
            "Эпоха №3\n",
            "Эпоха №4\n",
            "Эпоха №5\n",
            "Эпоха №6\n",
            "Эпоха №7\n",
            "accuracy:0.9954833333333334\n",
            "{'batch_size': 16, 'learning_rate': 0.01, 'num_epochs': 3}\n",
            "Эпоха №1\n",
            "Эпоха №2\n",
            "Эпоха №3\n",
            "accuracy:0.10441666666666667\n",
            "{'batch_size': 16, 'learning_rate': 0.01, 'num_epochs': 5}\n",
            "Эпоха №1\n",
            "Эпоха №2\n",
            "Эпоха №3\n",
            "Эпоха №4\n",
            "Эпоха №5\n",
            "accuracy:0.9751833333333333\n",
            "{'batch_size': 16, 'learning_rate': 0.01, 'num_epochs': 7}\n",
            "Эпоха №1\n",
            "Эпоха №2\n",
            "Эпоха №3\n",
            "Эпоха №4\n",
            "Эпоха №5\n",
            "Эпоха №6\n",
            "Эпоха №7\n",
            "accuracy:0.97615\n",
            "{'batch_size': 16, 'learning_rate': 0.1, 'num_epochs': 3}\n",
            "Эпоха №1\n",
            "Эпоха №2\n",
            "Эпоха №3\n",
            "accuracy:0.10441666666666667\n",
            "{'batch_size': 16, 'learning_rate': 0.1, 'num_epochs': 5}\n",
            "Эпоха №1\n",
            "Эпоха №2\n",
            "Эпоха №3\n",
            "Эпоха №4\n",
            "Эпоха №5\n",
            "accuracy:0.09871666666666666\n",
            "{'batch_size': 16, 'learning_rate': 0.1, 'num_epochs': 7}\n",
            "Эпоха №1\n",
            "Эпоха №2\n",
            "Эпоха №3\n",
            "Эпоха №4\n",
            "Эпоха №5\n",
            "Эпоха №6\n",
            "Эпоха №7\n",
            "accuracy:0.10441666666666667\n",
            "{'batch_size': 32, 'learning_rate': 0.001, 'num_epochs': 3}\n",
            "Эпоха №1\n",
            "Эпоха №2\n",
            "Эпоха №3\n",
            "accuracy:0.9877833333333333\n",
            "{'batch_size': 32, 'learning_rate': 0.001, 'num_epochs': 5}\n",
            "Эпоха №1\n",
            "Эпоха №2\n",
            "Эпоха №3\n",
            "Эпоха №4\n",
            "Эпоха №5\n",
            "accuracy:0.9907166666666667\n",
            "{'batch_size': 32, 'learning_rate': 0.001, 'num_epochs': 7}\n",
            "Эпоха №1\n",
            "Эпоха №2\n",
            "Эпоха №3\n",
            "Эпоха №4\n",
            "Эпоха №5\n",
            "Эпоха №6\n",
            "Эпоха №7\n",
            "accuracy:0.99505\n",
            "{'batch_size': 32, 'learning_rate': 0.01, 'num_epochs': 3}\n",
            "Эпоха №1\n",
            "Эпоха №2\n",
            "Эпоха №3\n",
            "accuracy:0.97205\n",
            "{'batch_size': 32, 'learning_rate': 0.01, 'num_epochs': 5}\n",
            "Эпоха №1\n",
            "Эпоха №2\n",
            "Эпоха №3\n",
            "Эпоха №4\n",
            "Эпоха №5\n",
            "accuracy:0.9762833333333333\n",
            "{'batch_size': 32, 'learning_rate': 0.01, 'num_epochs': 7}\n",
            "Эпоха №1\n",
            "Эпоха №2\n",
            "Эпоха №3\n",
            "Эпоха №4\n",
            "Эпоха №5\n",
            "Эпоха №6\n",
            "Эпоха №7\n",
            "accuracy:0.9833166666666666\n",
            "{'batch_size': 32, 'learning_rate': 0.1, 'num_epochs': 3}\n",
            "Эпоха №1\n",
            "Эпоха №2\n",
            "Эпоха №3\n",
            "accuracy:0.10441666666666667\n",
            "{'batch_size': 32, 'learning_rate': 0.1, 'num_epochs': 5}\n",
            "Эпоха №1\n",
            "Эпоха №2\n",
            "Эпоха №3\n",
            "Эпоха №4\n",
            "Эпоха №5\n",
            "accuracy:0.09915\n",
            "{'batch_size': 32, 'learning_rate': 0.1, 'num_epochs': 7}\n",
            "Эпоха №1\n",
            "Эпоха №2\n",
            "Эпоха №3\n",
            "Эпоха №4\n",
            "Эпоха №5\n",
            "Эпоха №6\n",
            "Эпоха №7\n",
            "accuracy:0.09751666666666667\n",
            "{'batch_size': 64, 'learning_rate': 0.001, 'num_epochs': 3}\n",
            "Эпоха №1\n",
            "Эпоха №2\n",
            "Эпоха №3\n",
            "accuracy:0.9861833333333333\n",
            "{'batch_size': 64, 'learning_rate': 0.001, 'num_epochs': 5}\n",
            "Эпоха №1\n",
            "Эпоха №2\n",
            "Эпоха №3\n",
            "Эпоха №4\n",
            "Эпоха №5\n",
            "accuracy:0.98935\n",
            "{'batch_size': 64, 'learning_rate': 0.001, 'num_epochs': 7}\n",
            "Эпоха №1\n",
            "Эпоха №2\n",
            "Эпоха №3\n",
            "Эпоха №4\n",
            "Эпоха №5\n",
            "Эпоха №6\n",
            "Эпоха №7\n",
            "accuracy:0.9931\n",
            "{'batch_size': 64, 'learning_rate': 0.01, 'num_epochs': 3}\n",
            "Эпоха №1\n",
            "Эпоха №2\n",
            "Эпоха №3\n",
            "accuracy:0.9776833333333333\n",
            "{'batch_size': 64, 'learning_rate': 0.01, 'num_epochs': 5}\n",
            "Эпоха №1\n",
            "Эпоха №2\n",
            "Эпоха №3\n",
            "Эпоха №4\n",
            "Эпоха №5\n",
            "accuracy:0.9820666666666666\n",
            "{'batch_size': 64, 'learning_rate': 0.01, 'num_epochs': 7}\n",
            "Эпоха №1\n",
            "Эпоха №2\n",
            "Эпоха №3\n",
            "Эпоха №4\n",
            "Эпоха №5\n",
            "Эпоха №6\n",
            "Эпоха №7\n",
            "accuracy:0.9861166666666666\n",
            "{'batch_size': 64, 'learning_rate': 0.1, 'num_epochs': 3}\n",
            "Эпоха №1\n",
            "Эпоха №2\n",
            "Эпоха №3\n",
            "accuracy:0.11236666666666667\n",
            "{'batch_size': 64, 'learning_rate': 0.1, 'num_epochs': 5}\n",
            "Эпоха №1\n",
            "Эпоха №2\n",
            "Эпоха №3\n",
            "Эпоха №4\n",
            "Эпоха №5\n",
            "accuracy:0.09863333333333334\n",
            "{'batch_size': 64, 'learning_rate': 0.1, 'num_epochs': 7}\n",
            "Эпоха №1\n",
            "Эпоха №2\n",
            "Эпоха №3\n",
            "Эпоха №4\n",
            "Эпоха №5\n",
            "Эпоха №6\n",
            "Эпоха №7\n",
            "accuracy:0.09915\n",
            "Лучшие гиперпараметры: {'batch_size': 16, 'learning_rate': 0.001, 'num_epochs': 7}\n",
            "0.9954833333333334\n"
          ]
        }
      ]
    },
    {
      "cell_type": "markdown",
      "source": [
        "###Измененная архитектура\n"
      ],
      "metadata": {
        "id": "_3bQ_VIiabua"
      }
    },
    {
      "cell_type": "code",
      "source": [
        "train_set = datasets.MNIST(\n",
        "    root=\"data\",\n",
        "    train=True,\n",
        "    download=True,\n",
        "    transform=transforms.ToTensor()\n",
        ")\n",
        "test_set = datasets.MNIST(\n",
        "    root=\"data\",\n",
        "    train=False,\n",
        "    download=True,\n",
        "    transform=transforms.ToTensor()\n",
        ")\n",
        "\n",
        "train_loader = torch.utils.data.DataLoader(train_set, batch_size = 32, shuffle=True)\n",
        "test_loader = torch.utils.data.DataLoader(test_set, batch_size = 32, shuffle=False)\n",
        "\n",
        "class Classifier(nn.Module):\n",
        "    def __init__(self):\n",
        "        super(Classifier, self).__init__()\n",
        "        self.fc1 = nn.Linear(784, 256)\n",
        "        self.fc2 = nn.Linear(256, 128)\n",
        "        self.fc3 = nn.Linear(128, 64)\n",
        "        self.fc4 = nn.Linear(64, 10)\n",
        "\n",
        "    def forward(self, x):\n",
        "        x = torch.flatten(x, start_dim=1)\n",
        "        x = F.relu(self.fc1(x))\n",
        "        x = F.relu(self.fc2(x))\n",
        "        x = F.relu(self.fc3(x))\n",
        "        x = self.fc4(x)\n",
        "        return x"
      ],
      "metadata": {
        "id": "05AUtQZZu3Kr"
      },
      "execution_count": null,
      "outputs": []
    },
    {
      "cell_type": "code",
      "source": [
        "model = Classifier()\n",
        "model"
      ],
      "metadata": {
        "colab": {
          "base_uri": "https://localhost:8080/"
        },
        "id": "_qI_f0LuvH_P",
        "outputId": "4ef9cb17-3df4-4701-b9f4-8e495ec85979"
      },
      "execution_count": null,
      "outputs": [
        {
          "output_type": "execute_result",
          "data": {
            "text/plain": [
              "Classifier(\n",
              "  (fc1): Linear(in_features=784, out_features=256, bias=True)\n",
              "  (fc2): Linear(in_features=256, out_features=128, bias=True)\n",
              "  (fc3): Linear(in_features=128, out_features=64, bias=True)\n",
              "  (fc4): Linear(in_features=64, out_features=10, bias=True)\n",
              ")"
            ]
          },
          "metadata": {},
          "execution_count": 30
        }
      ]
    },
    {
      "cell_type": "code",
      "source": [
        "loss_net = torch.nn.CrossEntropyLoss()\n",
        "\n",
        "lr = 0.001\n",
        "\n",
        "optimizer = torch.optim.Adam(model.parameters(), lr = lr)\n",
        "\n",
        "num_epochs = 6\n",
        "\n",
        "train_losses = []\n",
        "\n",
        "for epoch in range(num_epochs):\n",
        "    real_loss = 0.0\n",
        "\n",
        "    for i, (X_batch, y_batch) in enumerate(train_loader):  # Используем DataLoader\n",
        "        optimizer.zero_grad()\n",
        "        inputs, labels = X_batch, y_batch\n",
        "\n",
        "        y_pred = model(X_batch)\n",
        "\n",
        "        loss = loss_net(y_pred, labels)\n",
        "\n",
        "        loss.backward()\n",
        "        optimizer.step()\n",
        "\n",
        "        real_loss += loss.item()\n",
        "\n",
        "        if i % 500 == 499:  # Вывод каждые 500 батчей\n",
        "            print(f\"Epoch {epoch+1}, Batch {i+1}, Loss: {real_loss / 500:.4f}\")\n",
        "            real_loss = 0.0\n",
        "    avg_loss = real_loss/ len(train_loader)\n",
        "    train_losses.append(avg_loss)\n",
        "    print(f\"Epoch {epoch+1}, Loss: {avg_loss:.4f}\")\n",
        "\n",
        "print('\\nDONE')"
      ],
      "metadata": {
        "colab": {
          "base_uri": "https://localhost:8080/"
        },
        "id": "VQCCu8O0u9qn",
        "outputId": "8114b07c-cec7-46f2-b846-607eb3436c0c"
      },
      "execution_count": null,
      "outputs": [
        {
          "output_type": "stream",
          "name": "stdout",
          "text": [
            "Epoch 1, Batch 500, Loss: 0.5238\n",
            "Epoch 1, Batch 1000, Loss: 0.2126\n",
            "Epoch 1, Batch 1500, Loss: 0.1615\n",
            "Epoch 1, Loss: 0.0296\n",
            "Epoch 2, Batch 500, Loss: 0.1018\n",
            "Epoch 2, Batch 1000, Loss: 0.1141\n",
            "Epoch 2, Batch 1500, Loss: 0.1030\n",
            "Epoch 2, Loss: 0.0184\n",
            "Epoch 3, Batch 500, Loss: 0.0702\n",
            "Epoch 3, Batch 1000, Loss: 0.0727\n",
            "Epoch 3, Batch 1500, Loss: 0.0723\n",
            "Epoch 3, Loss: 0.0145\n",
            "Epoch 4, Batch 500, Loss: 0.0473\n",
            "Epoch 4, Batch 1000, Loss: 0.0503\n",
            "Epoch 4, Batch 1500, Loss: 0.0614\n",
            "Epoch 4, Loss: 0.0121\n",
            "Epoch 5, Batch 500, Loss: 0.0351\n",
            "Epoch 5, Batch 1000, Loss: 0.0432\n",
            "Epoch 5, Batch 1500, Loss: 0.0501\n",
            "Epoch 5, Loss: 0.0091\n",
            "Epoch 6, Batch 500, Loss: 0.0286\n",
            "Epoch 6, Batch 1000, Loss: 0.0395\n",
            "Epoch 6, Batch 1500, Loss: 0.0323\n",
            "Epoch 6, Loss: 0.0079\n",
            "\n",
            "DONE\n"
          ]
        }
      ]
    },
    {
      "cell_type": "code",
      "source": [
        "plt.plot(range(1, num_epochs + 1), train_losses, marker='o')\n",
        "plt.xlabel('Epoch')\n",
        "plt.ylabel('Loss')\n",
        "plt.title('Training Loss over Epochs')\n",
        "plt.show()"
      ],
      "metadata": {
        "colab": {
          "base_uri": "https://localhost:8080/",
          "height": 472
        },
        "id": "Ys9BByplvRj7",
        "outputId": "459f7339-ccbe-48d9-d7c8-191d73a904e0"
      },
      "execution_count": null,
      "outputs": [
        {
          "output_type": "display_data",
          "data": {
            "text/plain": [
              "<Figure size 640x480 with 1 Axes>"
            ],
            "image/png": "[encoded data removed]"
          },
          "metadata": {}
        }
      ]
    },
    {
      "cell_type": "code",
      "source": [
        "with torch.no_grad():\n",
        "    model.eval()\n",
        "    correct = 0\n",
        "    total = 0\n",
        "    for images, labels in test_loader:\n",
        "            outputs = model(images)\n",
        "            _, predicted = torch.max(outputs.data, 1)\n",
        "            total += labels.size(0)\n",
        "            correct += (predicted == labels).sum().item()\n",
        "\n",
        "    print(f'Точность (accuracy) {100 * correct / total}')\n"
      ],
      "metadata": {
        "colab": {
          "base_uri": "https://localhost:8080/"
        },
        "id": "NiyvK9Cmvzg4",
        "outputId": "cf1b108e-a75e-463c-9816-052caf9779b9"
      },
      "execution_count": null,
      "outputs": [
        {
          "output_type": "stream",
          "name": "stdout",
          "text": [
            "Точность (accuracy) 97.47\n"
          ]
        }
      ]
    },
    {
      "cell_type": "markdown",
      "source": [
        "###Еще одна архитектура"
      ],
      "metadata": {
        "id": "sQj3Llfd1eEl"
      }
    },
    {
      "cell_type": "code",
      "source": [
        "train_set = datasets.MNIST(\n",
        "    root=\"data\",\n",
        "    train=True,\n",
        "    download=True,\n",
        "    transform=transforms.ToTensor()\n",
        ")\n",
        "test_set = datasets.MNIST(\n",
        "    root=\"data\",\n",
        "    train=False,\n",
        "    download=True,\n",
        "    transform=transforms.ToTensor()\n",
        ")\n",
        "\n",
        "train_loader = torch.utils.data.DataLoader(train_set, batch_size = 32, shuffle=True)\n",
        "test_loader = torch.utils.data.DataLoader(test_set, batch_size = 32, shuffle=False)\n",
        "\n",
        "class New_m(nn.Module):\n",
        "  def __init__(self):\n",
        "    super().__init__()\n",
        "    self.fc1 = nn.Linear(28*28*1,10)\n",
        "\n",
        "  def forward(self,x):\n",
        "    x = x.view(-1,28*28*1)\n",
        "    x = self.fc1(x)\n",
        "    x = F.softmax(x)\n",
        "    return x"
      ],
      "metadata": {
        "id": "_gTCiHA_1gsa"
      },
      "execution_count": 13,
      "outputs": []
    },
    {
      "cell_type": "code",
      "source": [
        "model_2 = New_m()\n",
        "model_2"
      ],
      "metadata": {
        "colab": {
          "base_uri": "https://localhost:8080/"
        },
        "id": "-I3HbjkP2rdJ",
        "outputId": "4c14cd9f-fd0d-488e-e5ab-3590238092b1"
      },
      "execution_count": 14,
      "outputs": [
        {
          "output_type": "execute_result",
          "data": {
            "text/plain": [
              "New_m(\n",
              "  (fc1): Linear(in_features=784, out_features=10, bias=True)\n",
              ")"
            ]
          },
          "metadata": {},
          "execution_count": 14
        }
      ]
    },
    {
      "cell_type": "code",
      "source": [
        "loss_net = torch.nn.CrossEntropyLoss()\n",
        "\n",
        "lr = 0.001\n",
        "\n",
        "optimizer = torch.optim.Adam(model_2.parameters(), lr = lr)\n",
        "\n",
        "for epoch in tqdm(range(2)):\n",
        "\n",
        "  real_loss = 0.0\n",
        "\n",
        "  train_dataiter = iter(train_loader)\n",
        "  for i,batch in enumerate(train_dataiter):\n",
        "\n",
        "    X_batch,y_batch = batch\n",
        "\n",
        "    optimizer.zero_grad()\n",
        "\n",
        "    y_pred = model_2(X_batch)\n",
        "\n",
        "    loss = loss_net(y_pred,y_batch)\n",
        "\n",
        "    loss.backward()\n",
        "\n",
        "    optimizer.step()\n",
        "\n",
        "    real_loss += loss.item()\n",
        "\n",
        "    if i%500 == 499:\n",
        "      print(epoch+1,i+1,real_loss/500)\n",
        "      real_loss = 0.0\n",
        "\n",
        "print('\\n')\n",
        "print(\"DONE\")\n",
        "\n",
        "test_dataiter = iter(test_loader)\n",
        "images,labels = next(test_dataiter)\n",
        "\n",
        "predict_classes = np.argmax(model_2(images).detach().numpy(),axis = 1)\n",
        "\n",
        "accuracy_score(labels.numpy(), predict_classes)"
      ],
      "metadata": {
        "colab": {
          "base_uri": "https://localhost:8080/"
        },
        "id": "iIwqBY-JFkrR",
        "outputId": "784c5b5c-8312-4750-eb68-3de72a13a023"
      },
      "execution_count": 15,
      "outputs": [
        {
          "output_type": "stream",
          "name": "stderr",
          "text": [
            "\r  0%|          | 0/2 [00:00<?, ?it/s]<ipython-input-13-7b62f174eed9>:25: UserWarning: Implicit dimension choice for softmax has been deprecated. Change the call to include dim=X as an argument.\n",
            "  x = F.softmax(x)\n"
          ]
        },
        {
          "output_type": "stream",
          "name": "stdout",
          "text": [
            "1 500 1.7862678315639495\n",
            "1 1000 1.6210061802864075\n",
            "1 1500 1.5971672041416167\n"
          ]
        },
        {
          "output_type": "stream",
          "name": "stderr",
          "text": [
            "\r 50%|█████     | 1/2 [00:10<00:10, 10.71s/it]"
          ]
        },
        {
          "output_type": "stream",
          "name": "stdout",
          "text": [
            "2 500 1.5758894720077514\n",
            "2 1000 1.5725214614868164\n",
            "2 1500 1.565674513578415\n"
          ]
        },
        {
          "output_type": "stream",
          "name": "stderr",
          "text": [
            "100%|██████████| 2/2 [00:20<00:00, 10.24s/it]"
          ]
        },
        {
          "output_type": "stream",
          "name": "stdout",
          "text": [
            "\n",
            "\n",
            "DONE\n"
          ]
        },
        {
          "output_type": "stream",
          "name": "stderr",
          "text": [
            "\n"
          ]
        },
        {
          "output_type": "execute_result",
          "data": {
            "text/plain": [
              "0.96875"
            ]
          },
          "metadata": {},
          "execution_count": 15
        }
      ]
    },
    {
      "cell_type": "markdown",
      "source": [
        "###Эксперименты со сверточной архитектурой"
      ],
      "metadata": {
        "id": "75eWdPQbRzBO"
      }
    },
    {
      "cell_type": "code",
      "source": [
        "train_set = datasets.MNIST(\n",
        "    root=\"data\",\n",
        "    train=True,\n",
        "    download=True,\n",
        "    transform=transforms.ToTensor()\n",
        ")\n",
        "test_set = datasets.MNIST(\n",
        "    root=\"data\",\n",
        "    train=False,\n",
        "    download=True,\n",
        "    transform=transforms.ToTensor()\n",
        ")\n",
        "\n",
        "train_loader = torch.utils.data.DataLoader(train_set, batch_size = 32, shuffle=True)\n",
        "test_loader = torch.utils.data.DataLoader(test_set, batch_size = 32, shuffle=False)\n",
        "\n",
        "class NN_new(nn.Module):\n",
        "  def __init__(self):\n",
        "    super().__init__()\n",
        "    self.conv1 = nn.Conv2d(1,6,5)\n",
        "    self.pool = nn.MaxPool2d(2,2)\n",
        "    self.conv2 = nn.Conv2d(6,16,5)\n",
        "    self.fc1 = nn.Linear(16 * 4 * 4,120)\n",
        "    self.fc2 = nn.Linear(120,80)\n",
        "    self.fc3 = nn.Linear(80,40)\n",
        "    self.fc4 = nn.Linear(40,10)\n",
        "\n",
        "\n",
        "  def forward(self,x):\n",
        "    x = F.relu(self.conv1(x))\n",
        "    x = self.pool(x)\n",
        "    x = F.relu(self.conv2(x))\n",
        "    x = self.pool(x)\n",
        "    x = x.view(-1,16 * 4 * 4)\n",
        "    x = F.relu(self.fc1(x))\n",
        "    x = F.relu(self.fc2(x))\n",
        "    x = F.relu(self.fc3(x))\n",
        "    x = self.fc4(x)\n",
        "    return x"
      ],
      "metadata": {
        "id": "UDg3upScR2IT"
      },
      "execution_count": 16,
      "outputs": []
    },
    {
      "cell_type": "code",
      "source": [
        "model_3 = NN_new()\n",
        "model_3"
      ],
      "metadata": {
        "colab": {
          "base_uri": "https://localhost:8080/"
        },
        "id": "8_Qov6GXSEG0",
        "outputId": "ed757f31-7f3c-41ed-a447-34fc125c11e1"
      },
      "execution_count": 17,
      "outputs": [
        {
          "output_type": "execute_result",
          "data": {
            "text/plain": [
              "NN_new(\n",
              "  (conv1): Conv2d(1, 6, kernel_size=(5, 5), stride=(1, 1))\n",
              "  (pool): MaxPool2d(kernel_size=2, stride=2, padding=0, dilation=1, ceil_mode=False)\n",
              "  (conv2): Conv2d(6, 16, kernel_size=(5, 5), stride=(1, 1))\n",
              "  (fc1): Linear(in_features=256, out_features=120, bias=True)\n",
              "  (fc2): Linear(in_features=120, out_features=80, bias=True)\n",
              "  (fc3): Linear(in_features=80, out_features=40, bias=True)\n",
              "  (fc4): Linear(in_features=40, out_features=10, bias=True)\n",
              ")"
            ]
          },
          "metadata": {},
          "execution_count": 17
        }
      ]
    },
    {
      "cell_type": "code",
      "source": [
        "loss_net = torch.nn.CrossEntropyLoss()\n",
        "\n",
        "lr = 0.001\n",
        "\n",
        "optimizer = torch.optim.Adam(model_3.parameters(), lr = lr)\n",
        "\n",
        "num_epochs = 6\n",
        "\n",
        "train_losses = []\n",
        "\n",
        "for epoch in range(num_epochs):\n",
        "    real_loss = 0.0\n",
        "\n",
        "    for i, (X_batch, y_batch) in enumerate(train_loader):  # Используем DataLoader\n",
        "        optimizer.zero_grad()\n",
        "        inputs, labels = X_batch, y_batch\n",
        "\n",
        "        y_pred = model_3(X_batch)\n",
        "\n",
        "        loss = loss_net(y_pred, labels)\n",
        "\n",
        "        loss.backward()\n",
        "        optimizer.step()\n",
        "\n",
        "        real_loss += loss.item()\n",
        "\n",
        "        if i % 500 == 499:  # Вывод каждые 500 батчей\n",
        "            print(f\"Epoch {epoch+1}, Batch {i+1}, Loss: {real_loss / 500:.4f}\")\n",
        "            real_loss = 0.0\n",
        "    avg_loss = real_loss/ len(train_loader)\n",
        "    train_losses.append(avg_loss)\n",
        "    print(f\"Epoch {epoch+1}, Loss: {avg_loss:.4f}\")\n",
        "\n",
        "print('\\nDONE')\n",
        "\n",
        "predict_classes = np.argmax(model_3(images).detach().numpy(),axis = 1)\n",
        "\n",
        "# Тестирование модели\n",
        "all_labels = []\n",
        "all_preds = []\n",
        "\n",
        "with torch.no_grad():\n",
        "    model_3.eval()\n",
        "    for X_batch, y_batch in test_loader:\n",
        "        outputs = model_3(X_batch)\n",
        "        _, preds = torch.max(outputs, 1)\n",
        "        all_labels.extend(y_batch.numpy())\n",
        "        all_preds.extend(preds.numpy())\n",
        "\n",
        "accuracy = accuracy_score(all_labels, all_preds)\n",
        "f1 = f1_score(all_labels, all_preds, average='macro')\n",
        "\n",
        "print(f\"Test Accuracy: {accuracy:.4f}\")\n",
        "print(f\"Test F1 Score: {f1:.4f}\")\n",
        "\n"
      ],
      "metadata": {
        "colab": {
          "base_uri": "https://localhost:8080/"
        },
        "id": "3ZkErM99SRVh",
        "outputId": "0c0aaed4-e47f-443c-893d-293b0a32d5c2"
      },
      "execution_count": 19,
      "outputs": [
        {
          "output_type": "stream",
          "name": "stdout",
          "text": [
            "Epoch 1, Batch 500, Loss: 0.6162\n",
            "Epoch 1, Batch 1000, Loss: 0.1759\n",
            "Epoch 1, Batch 1500, Loss: 0.1331\n",
            "Epoch 1, Loss: 0.0232\n",
            "Epoch 2, Batch 500, Loss: 0.0900\n",
            "Epoch 2, Batch 1000, Loss: 0.0820\n",
            "Epoch 2, Batch 1500, Loss: 0.0828\n",
            "Epoch 2, Loss: 0.0144\n",
            "Epoch 3, Batch 500, Loss: 0.0642\n",
            "Epoch 3, Batch 1000, Loss: 0.0585\n",
            "Epoch 3, Batch 1500, Loss: 0.0569\n",
            "Epoch 3, Loss: 0.0119\n",
            "Epoch 4, Batch 500, Loss: 0.0470\n",
            "Epoch 4, Batch 1000, Loss: 0.0497\n",
            "Epoch 4, Batch 1500, Loss: 0.0473\n",
            "Epoch 4, Loss: 0.0092\n",
            "Epoch 5, Batch 500, Loss: 0.0330\n",
            "Epoch 5, Batch 1000, Loss: 0.0412\n",
            "Epoch 5, Batch 1500, Loss: 0.0415\n",
            "Epoch 5, Loss: 0.0082\n",
            "Epoch 6, Batch 500, Loss: 0.0316\n",
            "Epoch 6, Batch 1000, Loss: 0.0334\n",
            "Epoch 6, Batch 1500, Loss: 0.0297\n",
            "Epoch 6, Loss: 0.0069\n",
            "\n",
            "DONE\n",
            "Test Accuracy: 0.9879\n",
            "Test F1 Score: 0.9878\n"
          ]
        }
      ]
    },
    {
      "cell_type": "markdown",
      "source": [
        "##Вывод"
      ],
      "metadata": {
        "id": "zOwxNlQCagqH"
      }
    },
    {
      "cell_type": "markdown",
      "source": [
        "\n",
        "1. Лучшие гиперпараметры: Adam: Learning Rate = 0.001, Batch Size = 16, Epochs = 7. SGD: Learning Rate = 0.1, Batch Size = 32, Epochs = 7.\n",
        "2. Оптимизатор Adam показал лучшую скорость сходимости по сравнению с SGD.\n",
        "3. Использование большего числа эпох или сложной архитектуры не улучшило результаты существенно. В примере других архитектур точность показала 97.47 и 96.88 (в процентах), то есть разница в пару процентов с первичной при тех же значениях. В то время как эксперименты со сверточной архитектурой показали минимальные различия, будто бы добавление или удаление слоев в этом случае роли не играет.\n",
        "4. Для оптимизатора SGD вариантом с наихудшеми условиями был: batch_size: 64, learning_rate: 0.001, num_epochs: 5.\n",
        "5. Для оптимизатора Adam 3 эпохи выдавали плохие значение accuracy, 5 и 7 работали хорошо.\n",
        "6. На мой взгляд, лучше использовать Adam в таких задачах, так как он показывал высшую точность при 5-7 эпохах.\n"
      ],
      "metadata": {
        "id": "k9hoSBSEcwbb"
      }
    }
  ]
}